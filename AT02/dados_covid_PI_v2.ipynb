{
 "cells": [
  {
   "cell_type": "markdown",
   "metadata": {},
   "source": [
    "# Atividade (1.0 pt):  Pré-Processamento dos dados de COVID-19 no Piauí (equipe 5 integrantes)\n",
    "\n",
    "Apresentar um jupyter notebook gere 4 pickles X_train.pickle, y_train.pickle, X_test.pickle e y_test.pickle referente ao dados pré-processados considerando o dataset dos casos de COVID-19 no estado do Piauí. Considere que que o alvo (y) do dataset é o atributo número de mortes (deaths) "
   ]
  },
  {
   "cell_type": "markdown",
   "metadata": {},
   "source": [
    "## Importando as bibliotecas"
   ]
  },
  {
   "cell_type": "code",
   "execution_count": 1,
   "metadata": {},
   "outputs": [],
   "source": [
    "import pandas as pd\n",
    "import numpy as np\n",
    "import os\n",
    "from sklearn.impute import SimpleImputer \n",
    "from sklearn.compose import ColumnTransformer\n",
    "from sklearn.preprocessing import OneHotEncoder\n",
    "from sklearn.model_selection import train_test_split\n",
    "from sklearn.preprocessing import StandardScaler\n",
    "import pickle\n"
   ]
  },
  {
   "cell_type": "markdown",
   "metadata": {},
   "source": [
    "## Carregando os Dados"
   ]
  },
  {
   "cell_type": "code",
   "execution_count": 2,
   "metadata": {},
   "outputs": [],
   "source": [
    "DATASET_PATH = os.path.join(os.getcwd(), 'datasets')\n",
    "DATASET_NAME = 'casos_atualizados.csv'\n"
   ]
  },
  {
   "cell_type": "code",
   "execution_count": 3,
   "metadata": {},
   "outputs": [],
   "source": [
    "def load_data(dataset_path=DATASET_PATH, dataset_name=DATASET_NAME):\n",
    "    csv_path = os.path.join(dataset_path, dataset_name)\n",
    "    return pd.read_csv(csv_path)\n"
   ]
  },
  {
   "cell_type": "code",
   "execution_count": 4,
   "metadata": {},
   "outputs": [],
   "source": [
    "dataset = load_data(DATASET_PATH, DATASET_NAME)\n"
   ]
  },
  {
   "cell_type": "markdown",
   "metadata": {},
   "source": [
    "## Tratando os dados faltantes"
   ]
  },
  {
   "cell_type": "code",
   "execution_count": 5,
   "metadata": {},
   "outputs": [
    {
     "name": "stdout",
     "output_type": "stream",
     "text": [
      "<class 'pandas.core.frame.DataFrame'>\n",
      "RangeIndex: 225 entries, 0 to 224\n",
      "Data columns (total 13 columns):\n",
      " #   Column                          Non-Null Count  Dtype  \n",
      "---  ------                          --------------  -----  \n",
      " 0   city                            224 non-null    object \n",
      " 1   city_ibge_code                  225 non-null    int64  \n",
      " 2   confirmed                       225 non-null    int64  \n",
      " 3   confirmed_per_100k_inhabitants  225 non-null    float64\n",
      " 4   date                            225 non-null    object \n",
      " 5   death_rate                      225 non-null    float64\n",
      " 6   deaths                          225 non-null    int64  \n",
      " 7   estimated_population            225 non-null    int64  \n",
      " 8   estimated_population_2019       225 non-null    int64  \n",
      " 9   is_last                         225 non-null    bool   \n",
      " 10  order_for_place                 225 non-null    int64  \n",
      " 11  place_type                      225 non-null    object \n",
      " 12  state                           225 non-null    object \n",
      "dtypes: bool(1), float64(2), int64(6), object(4)\n",
      "memory usage: 21.4+ KB\n"
     ]
    }
   ],
   "source": [
    "dataset.info()\n"
   ]
  },
  {
   "cell_type": "code",
   "execution_count": 6,
   "metadata": {},
   "outputs": [
    {
     "name": "stdout",
     "output_type": "stream",
     "text": [
      "<class 'pandas.core.frame.DataFrame'>\n",
      "Int64Index: 224 entries, 1 to 224\n",
      "Data columns (total 13 columns):\n",
      " #   Column                          Non-Null Count  Dtype  \n",
      "---  ------                          --------------  -----  \n",
      " 0   city                            224 non-null    object \n",
      " 1   city_ibge_code                  224 non-null    int64  \n",
      " 2   confirmed                       224 non-null    int64  \n",
      " 3   confirmed_per_100k_inhabitants  224 non-null    float64\n",
      " 4   date                            224 non-null    object \n",
      " 5   death_rate                      224 non-null    float64\n",
      " 6   deaths                          224 non-null    int64  \n",
      " 7   estimated_population            224 non-null    int64  \n",
      " 8   estimated_population_2019       224 non-null    int64  \n",
      " 9   is_last                         224 non-null    bool   \n",
      " 10  order_for_place                 224 non-null    int64  \n",
      " 11  place_type                      224 non-null    object \n",
      " 12  state                           224 non-null    object \n",
      "dtypes: bool(1), float64(2), int64(6), object(4)\n",
      "memory usage: 23.0+ KB\n"
     ]
    }
   ],
   "source": [
    "# Filtrando Dados Faltantes\n",
    "dataset_t = dataset.dropna(subset=[\"city\"])\n",
    "dataset_t.info()\n"
   ]
  },
  {
   "cell_type": "markdown",
   "metadata": {},
   "source": [
    "## Tratando os dados categóricos"
   ]
  },
  {
   "cell_type": "code",
   "execution_count": 7,
   "metadata": {},
   "outputs": [
    {
     "name": "stdout",
     "output_type": "stream",
     "text": [
      "<class 'pandas.core.frame.DataFrame'>\n",
      "Int64Index: 224 entries, 1 to 224\n",
      "Data columns (total 8 columns):\n",
      " #   Column                          Non-Null Count  Dtype  \n",
      "---  ------                          --------------  -----  \n",
      " 0   city_ibge_code                  224 non-null    int64  \n",
      " 1   confirmed                       224 non-null    int64  \n",
      " 2   confirmed_per_100k_inhabitants  224 non-null    float64\n",
      " 3   death_rate                      224 non-null    float64\n",
      " 4   deaths                          224 non-null    int64  \n",
      " 5   estimated_population            224 non-null    int64  \n",
      " 6   estimated_population_2019       224 non-null    int64  \n",
      " 7   order_for_place                 224 non-null    int64  \n",
      "dtypes: float64(2), int64(6)\n",
      "memory usage: 15.8 KB\n"
     ]
    }
   ],
   "source": [
    "dataset_c = dataset_t.drop(['state', 'place_type', 'is_last', 'date', 'city'],axis=1)\n",
    "dataset_c.info()\n"
   ]
  },
  {
   "cell_type": "markdown",
   "metadata": {},
   "source": [
    "## Dividando os dados em treino e teste"
   ]
  },
  {
   "cell_type": "markdown",
   "metadata": {},
   "source": [
    "### Separando o alvo"
   ]
  },
  {
   "cell_type": "code",
   "execution_count": 8,
   "metadata": {},
   "outputs": [
    {
     "data": {
      "text/html": [
       "<div>\n",
       "<style scoped>\n",
       "    .dataframe tbody tr th:only-of-type {\n",
       "        vertical-align: middle;\n",
       "    }\n",
       "\n",
       "    .dataframe tbody tr th {\n",
       "        vertical-align: top;\n",
       "    }\n",
       "\n",
       "    .dataframe thead th {\n",
       "        text-align: right;\n",
       "    }\n",
       "</style>\n",
       "<table border=\"1\" class=\"dataframe\">\n",
       "  <thead>\n",
       "    <tr style=\"text-align: right;\">\n",
       "      <th></th>\n",
       "      <th>city_ibge_code</th>\n",
       "      <th>confirmed</th>\n",
       "      <th>confirmed_per_100k_inhabitants</th>\n",
       "      <th>death_rate</th>\n",
       "      <th>estimated_population</th>\n",
       "      <th>estimated_population_2019</th>\n",
       "      <th>order_for_place</th>\n",
       "    </tr>\n",
       "  </thead>\n",
       "  <tbody>\n",
       "    <tr>\n",
       "      <th>1</th>\n",
       "      <td>2200053</td>\n",
       "      <td>228</td>\n",
       "      <td>3210.36328</td>\n",
       "      <td>0.0088</td>\n",
       "      <td>7102</td>\n",
       "      <td>7084</td>\n",
       "      <td>633</td>\n",
       "    </tr>\n",
       "    <tr>\n",
       "      <th>2</th>\n",
       "      <td>2200103</td>\n",
       "      <td>829</td>\n",
       "      <td>16156.69460</td>\n",
       "      <td>0.0121</td>\n",
       "      <td>5131</td>\n",
       "      <td>5139</td>\n",
       "      <td>625</td>\n",
       "    </tr>\n",
       "    <tr>\n",
       "      <th>3</th>\n",
       "      <td>2200202</td>\n",
       "      <td>1699</td>\n",
       "      <td>9725.24327</td>\n",
       "      <td>0.0453</td>\n",
       "      <td>17470</td>\n",
       "      <td>17411</td>\n",
       "      <td>674</td>\n",
       "    </tr>\n",
       "    <tr>\n",
       "      <th>4</th>\n",
       "      <td>2200251</td>\n",
       "      <td>402</td>\n",
       "      <td>5244.61840</td>\n",
       "      <td>0.0323</td>\n",
       "      <td>7665</td>\n",
       "      <td>7651</td>\n",
       "      <td>639</td>\n",
       "    </tr>\n",
       "    <tr>\n",
       "      <th>5</th>\n",
       "      <td>2200277</td>\n",
       "      <td>553</td>\n",
       "      <td>11244.40830</td>\n",
       "      <td>0.0163</td>\n",
       "      <td>4918</td>\n",
       "      <td>4915</td>\n",
       "      <td>621</td>\n",
       "    </tr>\n",
       "    <tr>\n",
       "      <th>...</th>\n",
       "      <td>...</td>\n",
       "      <td>...</td>\n",
       "      <td>...</td>\n",
       "      <td>...</td>\n",
       "      <td>...</td>\n",
       "      <td>...</td>\n",
       "      <td>...</td>\n",
       "    </tr>\n",
       "    <tr>\n",
       "      <th>220</th>\n",
       "      <td>2211357</td>\n",
       "      <td>204</td>\n",
       "      <td>4131.22722</td>\n",
       "      <td>0.0588</td>\n",
       "      <td>4938</td>\n",
       "      <td>4947</td>\n",
       "      <td>641</td>\n",
       "    </tr>\n",
       "    <tr>\n",
       "      <th>221</th>\n",
       "      <td>2211407</td>\n",
       "      <td>561</td>\n",
       "      <td>12790.69767</td>\n",
       "      <td>0.0018</td>\n",
       "      <td>4386</td>\n",
       "      <td>4391</td>\n",
       "      <td>672</td>\n",
       "    </tr>\n",
       "    <tr>\n",
       "      <th>222</th>\n",
       "      <td>2211506</td>\n",
       "      <td>399</td>\n",
       "      <td>12954.54545</td>\n",
       "      <td>0.0075</td>\n",
       "      <td>3080</td>\n",
       "      <td>3077</td>\n",
       "      <td>656</td>\n",
       "    </tr>\n",
       "    <tr>\n",
       "      <th>223</th>\n",
       "      <td>2211605</td>\n",
       "      <td>349</td>\n",
       "      <td>11822.49322</td>\n",
       "      <td>0.0086</td>\n",
       "      <td>2952</td>\n",
       "      <td>2971</td>\n",
       "      <td>664</td>\n",
       "    </tr>\n",
       "    <tr>\n",
       "      <th>224</th>\n",
       "      <td>2211704</td>\n",
       "      <td>335</td>\n",
       "      <td>7492.73093</td>\n",
       "      <td>0.0090</td>\n",
       "      <td>4471</td>\n",
       "      <td>4462</td>\n",
       "      <td>617</td>\n",
       "    </tr>\n",
       "  </tbody>\n",
       "</table>\n",
       "<p>224 rows × 7 columns</p>\n",
       "</div>"
      ],
      "text/plain": [
       "     city_ibge_code  confirmed  confirmed_per_100k_inhabitants  death_rate  \\\n",
       "1           2200053        228                      3210.36328      0.0088   \n",
       "2           2200103        829                     16156.69460      0.0121   \n",
       "3           2200202       1699                      9725.24327      0.0453   \n",
       "4           2200251        402                      5244.61840      0.0323   \n",
       "5           2200277        553                     11244.40830      0.0163   \n",
       "..              ...        ...                             ...         ...   \n",
       "220         2211357        204                      4131.22722      0.0588   \n",
       "221         2211407        561                     12790.69767      0.0018   \n",
       "222         2211506        399                     12954.54545      0.0075   \n",
       "223         2211605        349                     11822.49322      0.0086   \n",
       "224         2211704        335                      7492.73093      0.0090   \n",
       "\n",
       "     estimated_population  estimated_population_2019  order_for_place  \n",
       "1                    7102                       7084              633  \n",
       "2                    5131                       5139              625  \n",
       "3                   17470                      17411              674  \n",
       "4                    7665                       7651              639  \n",
       "5                    4918                       4915              621  \n",
       "..                    ...                        ...              ...  \n",
       "220                  4938                       4947              641  \n",
       "221                  4386                       4391              672  \n",
       "222                  3080                       3077              656  \n",
       "223                  2952                       2971              664  \n",
       "224                  4471                       4462              617  \n",
       "\n",
       "[224 rows x 7 columns]"
      ]
     },
     "execution_count": 8,
     "metadata": {},
     "output_type": "execute_result"
    }
   ],
   "source": [
    "dataset_target = dataset_c['deaths'].copy()\n",
    "dataset_c = dataset_c.drop('deaths', axis=1)\n",
    "dataset_c\n"
   ]
  },
  {
   "cell_type": "code",
   "execution_count": 9,
   "metadata": {},
   "outputs": [],
   "source": [
    "X_train, X_test, Y_train, Y_test = train_test_split(dataset_c, dataset_target, test_size = 0.2, random_state=1, shuffle=True)\n"
   ]
  },
  {
   "cell_type": "code",
   "execution_count": 10,
   "metadata": {},
   "outputs": [
    {
     "data": {
      "text/plain": [
       "(179, 7)"
      ]
     },
     "execution_count": 10,
     "metadata": {},
     "output_type": "execute_result"
    }
   ],
   "source": [
    "X_train.shape\n"
   ]
  },
  {
   "cell_type": "code",
   "execution_count": 11,
   "metadata": {},
   "outputs": [
    {
     "data": {
      "text/plain": [
       "(45, 7)"
      ]
     },
     "execution_count": 11,
     "metadata": {},
     "output_type": "execute_result"
    }
   ],
   "source": [
    "X_test.shape\n"
   ]
  },
  {
   "cell_type": "code",
   "execution_count": 12,
   "metadata": {},
   "outputs": [
    {
     "data": {
      "text/plain": [
       "179.20000000000002"
      ]
     },
     "execution_count": 12,
     "metadata": {},
     "output_type": "execute_result"
    }
   ],
   "source": [
    "224 * 0.8\n"
   ]
  },
  {
   "cell_type": "markdown",
   "metadata": {},
   "source": [
    "## Feature Scaling"
   ]
  },
  {
   "cell_type": "code",
   "execution_count": 13,
   "metadata": {},
   "outputs": [],
   "source": [
    "sc = StandardScaler()\n",
    "X_train = sc.fit_transform(X_train)\n",
    "X_test = sc.transform(X_test)\n"
   ]
  },
  {
   "cell_type": "markdown",
   "metadata": {},
   "source": [
    "## Salvando os conjuntos em pickle"
   ]
  },
  {
   "cell_type": "code",
   "execution_count": 14,
   "metadata": {},
   "outputs": [],
   "source": [
    "pickle.dump(X_train, open('X_train.pickle', 'wb'))\n",
    "pickle.dump(X_test, open('X_test.pickle', 'wb'))\n",
    "pickle.dump(Y_train, open('y_train.pickle', 'wb'))\n",
    "pickle.dump(Y_test, open('y_test.pickle', 'wb'))\n"
   ]
  },
  {
   "cell_type": "code",
   "execution_count": null,
   "metadata": {},
   "outputs": [],
   "source": []
  }
 ],
 "metadata": {
  "interpreter": {
   "hash": "ea65dc02afb88902258b5974b88d33462b01232f0fcf3be00f06df2287715e24"
  },
  "kernelspec": {
   "display_name": "Python 3.9.6 ('venv': venv)",
   "language": "python",
   "name": "python3"
  },
  "language_info": {
   "codemirror_mode": {
    "name": "ipython",
    "version": 3
   },
   "file_extension": ".py",
   "mimetype": "text/x-python",
   "name": "python",
   "nbconvert_exporter": "python",
   "pygments_lexer": "ipython3",
   "version": "3.9.6"
  },
  "orig_nbformat": 4
 },
 "nbformat": 4,
 "nbformat_minor": 2
}
