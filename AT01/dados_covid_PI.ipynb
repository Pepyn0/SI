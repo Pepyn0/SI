{
 "cells": [
  {
   "cell_type": "markdown",
   "metadata": {},
   "source": [
    "### Atividade (1.0 pt): Visualização de casos de COVID-19 no Piauí (equipe 5 integrantes)\n",
    "\n",
    "<dl>\n",
    "<dt>Apresentar um jupyter notebook atendendo os seguintes itens: </dt>\n",
    "    <dd>1. Filtrar os dados para selecionar apenas aqueles referentes ao estado do Piauí. Se uma cidade possui mais de 1 amostra, selecionar aquela mais recente (nota: as datas estão em ordem decrescente);</dd>\n",
    "    <dd>2. Plotar um mapa com a localização e número de casos;</dd>\n",
    "    <dd>3. Indicar o número de amostras, atributos e dados faltantes (se existir) do conjunto de dados;</dd>\n",
    "    <dd>4. Apresentar as estatísticas descritivas dos atributos não categóricos;</dd>\n",
    "    <dd>5. Apresentar os histogramas dos atributos não categóricos;</dd>\n",
    "    <dd>6. Capturar as latitudes e longitudes para cada 1 dos municípios presentes na base de dados e adicionar as colunas latitude e longitude nos dados;</dd>\n",
    "    <dd>7. Apresentar um gráfico da latitude x longitude, onde cada amostra será representada por um círculo e quanto maior o valor do campo estimated_population, maior o raio do círculo que representa aquela amostra. Já a cor representa a taxa de mortalidade (death_rate), quão maior esse índice, mais próximo do vermelho;</dd>\n",
    "    <dd>8. Calcular a matriz de correlação;</dd>\n",
    "    <dd>9. Verificar a correlação entre o atributo death_rate e os demais atributos não categóricos;</dd>\n",
    "</dl>"
   ]
  },
  {
   "cell_type": "markdown",
   "metadata": {},
   "source": [
    "## Importando as bibliotecas"
   ]
  },
  {
   "cell_type": "code",
   "execution_count": 1,
   "metadata": {},
   "outputs": [],
   "source": [
    "import pandas as pd\n",
    "import requests\n",
    "import matplotlib.pyplot as plt\n",
    "import os\n",
    "import csv\n",
    "from urllib.parse import urlencode\n",
    "from dotenv import load_dotenv as loadEnv\n"
   ]
  },
  {
   "cell_type": "markdown",
   "metadata": {},
   "source": [
    "## Utilizando API da Brasil.IO"
   ]
  },
  {
   "cell_type": "code",
   "execution_count": 2,
   "metadata": {},
   "outputs": [],
   "source": [
    "loadEnv()\n",
    "BRASILIO_API_TOKEN = os.getenv('BRASILIO_API_TOKEN')\n",
    "\n",
    "base_url = \"https://api.brasil.io/v1/dataset/covid19/caso/data\"\n",
    "\n",
    "header = {\n",
    "    \"User-Agent\": \"python-urllib/brasilio-client-0.1.0\",\n",
    "    \"Authorization\": f\"Token {BRASILIO_API_TOKEN}\"\n",
    "}\n",
    "\n",
    "filters = {\"state\": \"PI\", \"is_last\": True}\n",
    "if filters:\n",
    "    request = base_url + \"?\" + urlencode(filters)\n",
    "\n",
    "response = requests.get(request, headers=header)\n",
    "responseData = response.json()['results']\n"
   ]
  },
  {
   "cell_type": "markdown",
   "metadata": {},
   "source": [
    "## Transformando resposta da API em arquivo CSV"
   ]
  },
  {
   "cell_type": "code",
   "execution_count": 3,
   "metadata": {},
   "outputs": [],
   "source": [
    "def saveOnCSV(dataset_path, dataset_name):\n",
    "    file = os.path.join(dataset_path, dataset_name)\n",
    "\n",
    "    with open(file, 'w', newline='', encoding='utf-8') as csvfile:\n",
    "        fieldnames = [\n",
    "            'city',\n",
    "            'city_ibge_code',\n",
    "            'confirmed',\n",
    "            'confirmed_per_100k_inhabitants',\n",
    "            'date',\n",
    "            'death_rate',\n",
    "            'deaths',\n",
    "            'estimated_population',\n",
    "            'estimated_population_2019',\n",
    "            'is_last',\n",
    "            'order_for_place',\n",
    "            'place_type',\n",
    "            'state'\n",
    "        ]\n",
    "        writer = csv.DictWriter(csvfile, fieldnames=fieldnames)\n",
    "        writer.writeheader()\n",
    "        for i in responseData:\n",
    "            writer.writerow(i)\n"
   ]
  },
  {
   "cell_type": "code",
   "execution_count": 4,
   "metadata": {},
   "outputs": [],
   "source": [
    "# DATASET_PATH = 'D:\\\\MyProjects\\\\GItHub\\\\SI\\\\AT01'\n",
    "DATASET_PATH = os.path.join(os.getcwd(), 'datasets')\n",
    "DATASET_NAME = 'casos_atualizados.csv'\n",
    "\n",
    "saveOnCSV(DATASET_PATH, DATASET_NAME)\n"
   ]
  },
  {
   "cell_type": "markdown",
   "metadata": {},
   "source": [
    "## Carregando dados completos do dataset"
   ]
  },
  {
   "cell_type": "code",
   "execution_count": 5,
   "metadata": {},
   "outputs": [],
   "source": [
    "# DATASET_PATH = 'D:\\\\MyProjects\\\\GItHub\\\\SI\\\\AT01'\n",
    "DATASET_PATH = os.path.join(os.getcwd(), 'datasets')\n",
    "DATASET_NAME = 'caso.csv'\n"
   ]
  },
  {
   "cell_type": "code",
   "execution_count": 6,
   "metadata": {},
   "outputs": [],
   "source": [
    "def load_data(dataset_path=DATASET_PATH, dataset_name=DATASET_NAME):\n",
    "    csv_path = os.path.join(dataset_path, dataset_name)\n",
    "    return pd.read_csv(csv_path)\n"
   ]
  },
  {
   "cell_type": "code",
   "execution_count": 7,
   "metadata": {},
   "outputs": [],
   "source": [
    "dataset = load_data(DATASET_PATH,DATASET_NAME)\n"
   ]
  },
  {
   "cell_type": "code",
   "execution_count": 8,
   "metadata": {},
   "outputs": [
    {
     "name": "stdout",
     "output_type": "stream",
     "text": [
      "<class 'pandas.core.frame.DataFrame'>\n",
      "RangeIndex: 2800004 entries, 0 to 2800003\n",
      "Data columns (total 13 columns):\n",
      " #   Column                          Dtype  \n",
      "---  ------                          -----  \n",
      " 0   date                            object \n",
      " 1   state                           object \n",
      " 2   city                            object \n",
      " 3   place_type                      object \n",
      " 4   confirmed                       int64  \n",
      " 5   deaths                          int64  \n",
      " 6   order_for_place                 int64  \n",
      " 7   is_last                         bool   \n",
      " 8   estimated_population_2019       float64\n",
      " 9   estimated_population            float64\n",
      " 10  city_ibge_code                  float64\n",
      " 11  confirmed_per_100k_inhabitants  float64\n",
      " 12  death_rate                      float64\n",
      "dtypes: bool(1), float64(5), int64(3), object(4)\n",
      "memory usage: 259.0+ MB\n"
     ]
    }
   ],
   "source": [
    "dataset.info()\n"
   ]
  },
  {
   "cell_type": "markdown",
   "metadata": {},
   "source": [
    "## Ponto #1\n",
    "Filtrar dados pelo mais recentes e do estado do Piauí"
   ]
  },
  {
   "cell_type": "code",
   "execution_count": 9,
   "metadata": {},
   "outputs": [],
   "source": [
    "dataPiaui = dataset[(dataset['is_last'] == True)&(dataset['state'] == 'PI')&(dataset['place_type'] == 'city')]\n"
   ]
  },
  {
   "cell_type": "code",
   "execution_count": 10,
   "metadata": {},
   "outputs": [
    {
     "name": "stdout",
     "output_type": "stream",
     "text": [
      "<class 'pandas.core.frame.DataFrame'>\n",
      "Int64Index: 224 entries, 2050053 to 2191261\n",
      "Data columns (total 13 columns):\n",
      " #   Column                          Non-Null Count  Dtype  \n",
      "---  ------                          --------------  -----  \n",
      " 0   date                            224 non-null    object \n",
      " 1   state                           224 non-null    object \n",
      " 2   city                            224 non-null    object \n",
      " 3   place_type                      224 non-null    object \n",
      " 4   confirmed                       224 non-null    int64  \n",
      " 5   deaths                          224 non-null    int64  \n",
      " 6   order_for_place                 224 non-null    int64  \n",
      " 7   is_last                         224 non-null    bool   \n",
      " 8   estimated_population_2019       224 non-null    float64\n",
      " 9   estimated_population            224 non-null    float64\n",
      " 10  city_ibge_code                  224 non-null    float64\n",
      " 11  confirmed_per_100k_inhabitants  224 non-null    float64\n",
      " 12  death_rate                      224 non-null    float64\n",
      "dtypes: bool(1), float64(5), int64(3), object(4)\n",
      "memory usage: 23.0+ KB\n"
     ]
    }
   ],
   "source": [
    "dataPiaui.info()"
   ]
  },
  {
   "cell_type": "markdown",
   "metadata": {},
   "source": [
    "## Ponto #2\n",
    "Plotar um mapa com a localização e número de casos"
   ]
  },
  {
   "cell_type": "code",
   "execution_count": null,
   "metadata": {},
   "outputs": [],
   "source": []
  },
  {
   "cell_type": "markdown",
   "metadata": {},
   "source": [
    "## Ponto #3"
   ]
  },
  {
   "cell_type": "code",
   "execution_count": null,
   "metadata": {},
   "outputs": [],
   "source": []
  },
  {
   "cell_type": "markdown",
   "metadata": {},
   "source": [
    "## Ponto #4"
   ]
  },
  {
   "cell_type": "code",
   "execution_count": null,
   "metadata": {},
   "outputs": [],
   "source": []
  },
  {
   "cell_type": "markdown",
   "metadata": {},
   "source": [
    "## Ponto #5"
   ]
  },
  {
   "cell_type": "code",
   "execution_count": null,
   "metadata": {},
   "outputs": [],
   "source": []
  },
  {
   "cell_type": "markdown",
   "metadata": {},
   "source": [
    "## Ponto #6"
   ]
  },
  {
   "cell_type": "code",
   "execution_count": null,
   "metadata": {},
   "outputs": [],
   "source": []
  },
  {
   "cell_type": "markdown",
   "metadata": {},
   "source": [
    "## Ponto #7"
   ]
  },
  {
   "cell_type": "code",
   "execution_count": null,
   "metadata": {},
   "outputs": [],
   "source": []
  },
  {
   "cell_type": "markdown",
   "metadata": {},
   "source": [
    "## Ponto #8"
   ]
  },
  {
   "cell_type": "code",
   "execution_count": null,
   "metadata": {},
   "outputs": [],
   "source": []
  },
  {
   "cell_type": "markdown",
   "metadata": {},
   "source": [
    "## Ponto #9"
   ]
  },
  {
   "cell_type": "code",
   "execution_count": null,
   "metadata": {},
   "outputs": [],
   "source": []
  }
 ],
 "metadata": {
  "interpreter": {
   "hash": "ea65dc02afb88902258b5974b88d33462b01232f0fcf3be00f06df2287715e24"
  },
  "kernelspec": {
   "display_name": "Python 3.9.6 ('venv': venv)",
   "language": "python",
   "name": "python3"
  },
  "language_info": {
   "codemirror_mode": {
    "name": "ipython",
    "version": 3
   },
   "file_extension": ".py",
   "mimetype": "text/x-python",
   "name": "python",
   "nbconvert_exporter": "python",
   "pygments_lexer": "ipython3",
   "version": "3.9.6"
  },
  "orig_nbformat": 4
 },
 "nbformat": 4,
 "nbformat_minor": 2
}
