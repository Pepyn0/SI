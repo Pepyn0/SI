{
 "cells": [
  {
   "cell_type": "markdown",
   "metadata": {},
   "source": [
    "### Atividade (1.0 pt): Visualização de casos de COVID-19 no Piauí (equipe 5 integrantes)\n",
    "\n",
    "<dl>\n",
    "<dt>Apresentar um jupyter notebook atendendo os seguintes itens: </dt>\n",
    "    <dd>1. Filtrar os dados para selecionar apenas aqueles referentes ao estado do Piauí. Se uma cidade possui mais de 1 amostra, selecionar aquela mais recente (nota: as datas estão em ordem decrescente);</dd>\n",
    "    <dd>2. Plotar um mapa com a localização e número de casos;</dd>\n",
    "    <dd>3. Indicar o número de amostras, atributos e dados faltantes (se existir) do conjunto de dados;</dd>\n",
    "    <dd>4. Apresentar as estatísticas descritivas dos atributos não categóricos;</dd>\n",
    "    <dd>5. Apresentar os histogramas dos atributos não categóricos;</dd>\n",
    "    <dd>6. Capturar as latitudes e longitudes para cada 1 dos municípios presentes na base de dados e adicionar as colunas latitude e longitude nos dados;</dd>\n",
    "    <dd>7. Apresentar um gráfico da latitude x longitude, onde cada amostra será representada por um círculo e quanto maior o valor do campo estimated_population, maior o raio do círculo que representa aquela amostra. Já a cor representa a taxa de mortalidade (death_rate), quão maior esse índice, mais próximo do vermelho;</dd>\n",
    "    <dd>8. Calcular a matriz de correlação;</dd>\n",
    "    <dd>9. Verificar a correlação entre o atributo death_rate e os demais atributos não categóricos;</dd>\n",
    "</dl>"
   ]
  },
  {
   "cell_type": "markdown",
   "metadata": {},
   "source": [
    "## Importando as bibliotecas"
   ]
  },
  {
   "cell_type": "code",
   "execution_count": 1,
   "metadata": {},
   "outputs": [],
   "source": [
    "import pandas as pd\n",
    "import numpy as np\n",
    "import requests\n",
    "import matplotlib.pyplot as plt\n",
    "import os\n",
    "import csv\n",
    "from urllib.parse import urlencode\n",
    "from dotenv import load_dotenv as loadEnv\n",
    "from mpl_toolkits.basemap import Basemap\n"
   ]
  },
  {
   "cell_type": "markdown",
   "metadata": {},
   "source": [
    "## Utilizando API da Brasil.IO"
   ]
  },
  {
   "cell_type": "code",
   "execution_count": 2,
   "metadata": {},
   "outputs": [],
   "source": [
    "loadEnv()\n",
    "BRASILIO_API_TOKEN = os.getenv('BRASILIO_API_TOKEN')\n",
    "\n",
    "base_url = \"https://api.brasil.io/v1/dataset/covid19/caso/data\"\n",
    "\n",
    "header = {\n",
    "    \"User-Agent\": \"python-urllib/brasilio-client-0.1.0\",\n",
    "    \"Authorization\": f\"Token {BRASILIO_API_TOKEN}\"\n",
    "}\n",
    "\n",
    "filters = {\"state\": \"PI\", \"is_last\": True}\n",
    "if filters:\n",
    "    request = base_url + \"?\" + urlencode(filters)\n",
    "\n",
    "response = requests.get(request, headers=header)\n",
    "responseData = response.json()['results']\n"
   ]
  },
  {
   "cell_type": "markdown",
   "metadata": {},
   "source": [
    "## Transformando resposta da API em arquivo CSV"
   ]
  },
  {
   "cell_type": "code",
   "execution_count": 3,
   "metadata": {},
   "outputs": [],
   "source": [
    "def saveOnCSV(dataset_path, dataset_name):\n",
    "    file = os.path.join(dataset_path, dataset_name)\n",
    "\n",
    "    with open(file, 'w', newline='', encoding='utf-8') as csvfile:\n",
    "        fieldnames = [\n",
    "            'city',\n",
    "            'city_ibge_code',\n",
    "            'confirmed',\n",
    "            'confirmed_per_100k_inhabitants',\n",
    "            'date',\n",
    "            'death_rate',\n",
    "            'deaths',\n",
    "            'estimated_population',\n",
    "            'estimated_population_2019',\n",
    "            'is_last',\n",
    "            'order_for_place',\n",
    "            'place_type',\n",
    "            'state'\n",
    "        ]\n",
    "        writer = csv.DictWriter(csvfile, fieldnames=fieldnames)\n",
    "        writer.writeheader()\n",
    "        for i in responseData:\n",
    "            writer.writerow(i)\n"
   ]
  },
  {
   "cell_type": "code",
   "execution_count": 4,
   "metadata": {},
   "outputs": [],
   "source": [
    "# DATASET_PATH = 'D:\\\\MyProjects\\\\GItHub\\\\SI\\\\AT01'\n",
    "DATASET_PATH = os.path.join(os.getcwd(), 'datasets')\n",
    "DATASET_NAME = 'casos_atualizados.csv'\n",
    "\n",
    "saveOnCSV(DATASET_PATH, DATASET_NAME)\n"
   ]
  },
  {
   "cell_type": "markdown",
   "metadata": {},
   "source": [
    "## Carregando dados completos do dataset"
   ]
  },
  {
   "cell_type": "code",
   "execution_count": 5,
   "metadata": {},
   "outputs": [],
   "source": [
    "# DATASET_PATH = 'D:\\\\MyProjects\\\\GItHub\\\\SI\\\\AT01'\n",
    "DATASET_PATH = os.path.join(os.getcwd(), 'datasets')\n",
    "DATASET_NAME = 'caso.csv'\n"
   ]
  },
  {
   "cell_type": "code",
   "execution_count": 6,
   "metadata": {},
   "outputs": [],
   "source": [
    "def load_data(dataset_path=DATASET_PATH, dataset_name=DATASET_NAME):\n",
    "    csv_path = os.path.join(dataset_path, dataset_name)\n",
    "    return pd.read_csv(csv_path)\n"
   ]
  },
  {
   "cell_type": "code",
   "execution_count": 7,
   "metadata": {},
   "outputs": [],
   "source": [
    "dataset = load_data(DATASET_PATH,DATASET_NAME)\n"
   ]
  },
  {
   "cell_type": "code",
   "execution_count": 8,
   "metadata": {},
   "outputs": [
    {
     "name": "stdout",
     "output_type": "stream",
     "text": [
      "<class 'pandas.core.frame.DataFrame'>\n",
      "RangeIndex: 2800004 entries, 0 to 2800003\n",
      "Data columns (total 13 columns):\n",
      " #   Column                          Dtype  \n",
      "---  ------                          -----  \n",
      " 0   date                            object \n",
      " 1   state                           object \n",
      " 2   city                            object \n",
      " 3   place_type                      object \n",
      " 4   confirmed                       int64  \n",
      " 5   deaths                          int64  \n",
      " 6   order_for_place                 int64  \n",
      " 7   is_last                         bool   \n",
      " 8   estimated_population_2019       float64\n",
      " 9   estimated_population            float64\n",
      " 10  city_ibge_code                  float64\n",
      " 11  confirmed_per_100k_inhabitants  float64\n",
      " 12  death_rate                      float64\n",
      "dtypes: bool(1), float64(5), int64(3), object(4)\n",
      "memory usage: 259.0+ MB\n"
     ]
    }
   ],
   "source": [
    "dataset.info()\n"
   ]
  },
  {
   "cell_type": "markdown",
   "metadata": {},
   "source": [
    "## Ponto #1\n",
    "Filtrar dados pelo mais recentes e do estado do Piauí"
   ]
  },
  {
   "cell_type": "code",
   "execution_count": 9,
   "metadata": {},
   "outputs": [],
   "source": [
    "dataPiaui = dataset[(dataset['is_last'] == True)&(dataset['state'] == 'PI')&(dataset['place_type'] == 'city')]\n"
   ]
  },
  {
   "cell_type": "code",
   "execution_count": 10,
   "metadata": {},
   "outputs": [
    {
     "name": "stdout",
     "output_type": "stream",
     "text": [
      "<class 'pandas.core.frame.DataFrame'>\n",
      "Int64Index: 224 entries, 2050053 to 2191261\n",
      "Data columns (total 13 columns):\n",
      " #   Column                          Non-Null Count  Dtype  \n",
      "---  ------                          --------------  -----  \n",
      " 0   date                            224 non-null    object \n",
      " 1   state                           224 non-null    object \n",
      " 2   city                            224 non-null    object \n",
      " 3   place_type                      224 non-null    object \n",
      " 4   confirmed                       224 non-null    int64  \n",
      " 5   deaths                          224 non-null    int64  \n",
      " 6   order_for_place                 224 non-null    int64  \n",
      " 7   is_last                         224 non-null    bool   \n",
      " 8   estimated_population_2019       224 non-null    float64\n",
      " 9   estimated_population            224 non-null    float64\n",
      " 10  city_ibge_code                  224 non-null    float64\n",
      " 11  confirmed_per_100k_inhabitants  224 non-null    float64\n",
      " 12  death_rate                      224 non-null    float64\n",
      "dtypes: bool(1), float64(5), int64(3), object(4)\n",
      "memory usage: 23.0+ KB\n"
     ]
    }
   ],
   "source": [
    "dataPiaui.info()\n"
   ]
  },
  {
   "cell_type": "code",
   "execution_count": 11,
   "metadata": {},
   "outputs": [
    {
     "data": {
      "text/html": [
       "<div>\n",
       "<style scoped>\n",
       "    .dataframe tbody tr th:only-of-type {\n",
       "        vertical-align: middle;\n",
       "    }\n",
       "\n",
       "    .dataframe tbody tr th {\n",
       "        vertical-align: top;\n",
       "    }\n",
       "\n",
       "    .dataframe thead th {\n",
       "        text-align: right;\n",
       "    }\n",
       "</style>\n",
       "<table border=\"1\" class=\"dataframe\">\n",
       "  <thead>\n",
       "    <tr style=\"text-align: right;\">\n",
       "      <th></th>\n",
       "      <th>date</th>\n",
       "      <th>state</th>\n",
       "      <th>city</th>\n",
       "      <th>place_type</th>\n",
       "      <th>confirmed</th>\n",
       "      <th>deaths</th>\n",
       "      <th>order_for_place</th>\n",
       "      <th>is_last</th>\n",
       "      <th>estimated_population_2019</th>\n",
       "      <th>estimated_population</th>\n",
       "      <th>city_ibge_code</th>\n",
       "      <th>confirmed_per_100k_inhabitants</th>\n",
       "      <th>death_rate</th>\n",
       "    </tr>\n",
       "  </thead>\n",
       "  <tbody>\n",
       "    <tr>\n",
       "      <th>2050053</th>\n",
       "      <td>2022-02-15</td>\n",
       "      <td>PI</td>\n",
       "      <td>Acauã</td>\n",
       "      <td>city</td>\n",
       "      <td>228</td>\n",
       "      <td>2</td>\n",
       "      <td>619</td>\n",
       "      <td>True</td>\n",
       "      <td>7084.0</td>\n",
       "      <td>7102.0</td>\n",
       "      <td>2200053.0</td>\n",
       "      <td>3210.36328</td>\n",
       "      <td>0.0088</td>\n",
       "    </tr>\n",
       "    <tr>\n",
       "      <th>2050672</th>\n",
       "      <td>2022-02-15</td>\n",
       "      <td>PI</td>\n",
       "      <td>Agricolândia</td>\n",
       "      <td>city</td>\n",
       "      <td>815</td>\n",
       "      <td>10</td>\n",
       "      <td>611</td>\n",
       "      <td>True</td>\n",
       "      <td>5139.0</td>\n",
       "      <td>5131.0</td>\n",
       "      <td>2200103.0</td>\n",
       "      <td>15883.84331</td>\n",
       "      <td>0.0123</td>\n",
       "    </tr>\n",
       "    <tr>\n",
       "      <th>2051283</th>\n",
       "      <td>2022-02-15</td>\n",
       "      <td>PI</td>\n",
       "      <td>Alagoinha do Piauí</td>\n",
       "      <td>city</td>\n",
       "      <td>402</td>\n",
       "      <td>13</td>\n",
       "      <td>625</td>\n",
       "      <td>True</td>\n",
       "      <td>7651.0</td>\n",
       "      <td>7665.0</td>\n",
       "      <td>2200251.0</td>\n",
       "      <td>5244.61840</td>\n",
       "      <td>0.0323</td>\n",
       "    </tr>\n",
       "    <tr>\n",
       "      <th>2051908</th>\n",
       "      <td>2022-02-15</td>\n",
       "      <td>PI</td>\n",
       "      <td>Alegrete do Piauí</td>\n",
       "      <td>city</td>\n",
       "      <td>553</td>\n",
       "      <td>9</td>\n",
       "      <td>607</td>\n",
       "      <td>True</td>\n",
       "      <td>4915.0</td>\n",
       "      <td>4918.0</td>\n",
       "      <td>2200277.0</td>\n",
       "      <td>11244.40830</td>\n",
       "      <td>0.0163</td>\n",
       "    </tr>\n",
       "    <tr>\n",
       "      <th>2052515</th>\n",
       "      <td>2022-02-15</td>\n",
       "      <td>PI</td>\n",
       "      <td>Alto Longá</td>\n",
       "      <td>city</td>\n",
       "      <td>822</td>\n",
       "      <td>15</td>\n",
       "      <td>641</td>\n",
       "      <td>True</td>\n",
       "      <td>14304.0</td>\n",
       "      <td>14339.0</td>\n",
       "      <td>2200301.0</td>\n",
       "      <td>5732.61734</td>\n",
       "      <td>0.0182</td>\n",
       "    </tr>\n",
       "  </tbody>\n",
       "</table>\n",
       "</div>"
      ],
      "text/plain": [
       "               date state                city place_type  confirmed  deaths  \\\n",
       "2050053  2022-02-15    PI               Acauã       city        228       2   \n",
       "2050672  2022-02-15    PI        Agricolândia       city        815      10   \n",
       "2051283  2022-02-15    PI  Alagoinha do Piauí       city        402      13   \n",
       "2051908  2022-02-15    PI   Alegrete do Piauí       city        553       9   \n",
       "2052515  2022-02-15    PI          Alto Longá       city        822      15   \n",
       "\n",
       "         order_for_place  is_last  estimated_population_2019  \\\n",
       "2050053              619     True                     7084.0   \n",
       "2050672              611     True                     5139.0   \n",
       "2051283              625     True                     7651.0   \n",
       "2051908              607     True                     4915.0   \n",
       "2052515              641     True                    14304.0   \n",
       "\n",
       "         estimated_population  city_ibge_code  confirmed_per_100k_inhabitants  \\\n",
       "2050053                7102.0       2200053.0                      3210.36328   \n",
       "2050672                5131.0       2200103.0                     15883.84331   \n",
       "2051283                7665.0       2200251.0                      5244.61840   \n",
       "2051908                4918.0       2200277.0                     11244.40830   \n",
       "2052515               14339.0       2200301.0                      5732.61734   \n",
       "\n",
       "         death_rate  \n",
       "2050053      0.0088  \n",
       "2050672      0.0123  \n",
       "2051283      0.0323  \n",
       "2051908      0.0163  \n",
       "2052515      0.0182  "
      ]
     },
     "execution_count": 11,
     "metadata": {},
     "output_type": "execute_result"
    }
   ],
   "source": [
    "dataPiaui.head()"
   ]
  },
  {
   "cell_type": "markdown",
   "metadata": {},
   "source": [
    "## Ponto #6"
   ]
  },
  {
   "cell_type": "markdown",
   "metadata": {},
   "source": [
    " Capturar as latitudes e longitudes para cada 1 dos municípios presentes na base de dados e adicionar as colunas latitude e longitude nos dados"
   ]
  },
  {
   "cell_type": "code",
   "execution_count": 12,
   "metadata": {},
   "outputs": [],
   "source": [
    "latitudes = []\n",
    "longitudes = []\n",
    "\n",
    "for city in dataPiaui['city']:\n",
    "    request = 'https://nominatim.openstreetmap.org/search?city='+city+'&state=Piaui&format=json'\n",
    "    response = requests.get(request)\n",
    "    response_data = response.json()[0]\n",
    "    \n",
    "    latitude = float(response_data[\"lat\"])\n",
    "    longitude = float(response_data[\"lon\"])\n",
    "    latitudes.append(latitude)\n",
    "    longitudes.append(longitude)\n"
   ]
  },
  {
   "cell_type": "code",
   "execution_count": 13,
   "metadata": {},
   "outputs": [
    {
     "data": {
      "text/plain": [
       "224"
      ]
     },
     "execution_count": 13,
     "metadata": {},
     "output_type": "execute_result"
    }
   ],
   "source": [
    "len(latitudes)\n",
    "len(longitudes)\n"
   ]
  },
  {
   "cell_type": "code",
   "execution_count": 14,
   "metadata": {},
   "outputs": [
    {
     "name": "stderr",
     "output_type": "stream",
     "text": [
      "C:\\Users\\brpep\\AppData\\Local\\Temp\\ipykernel_11404\\4141642312.py:1: SettingWithCopyWarning: \n",
      "A value is trying to be set on a copy of a slice from a DataFrame.\n",
      "Try using .loc[row_indexer,col_indexer] = value instead\n",
      "\n",
      "See the caveats in the documentation: https://pandas.pydata.org/pandas-docs/stable/user_guide/indexing.html#returning-a-view-versus-a-copy\n",
      "  dataPiaui['latitude'] = latitudes\n",
      "C:\\Users\\brpep\\AppData\\Local\\Temp\\ipykernel_11404\\4141642312.py:2: SettingWithCopyWarning: \n",
      "A value is trying to be set on a copy of a slice from a DataFrame.\n",
      "Try using .loc[row_indexer,col_indexer] = value instead\n",
      "\n",
      "See the caveats in the documentation: https://pandas.pydata.org/pandas-docs/stable/user_guide/indexing.html#returning-a-view-versus-a-copy\n",
      "  dataPiaui['longitude'] = longitudes\n"
     ]
    }
   ],
   "source": [
    "dataPiaui['latitude'] = latitudes\n",
    "dataPiaui['longitude'] = longitudes\n",
    "# dataPiaui.assign(latitude = latitudes)\n",
    "# dataPiaui.assign(longitude = longitudes)\n",
    "\n",
    "# dataPiaui.info()\n"
   ]
  },
  {
   "cell_type": "code",
   "execution_count": 15,
   "metadata": {},
   "outputs": [
    {
     "name": "stdout",
     "output_type": "stream",
     "text": [
      "<class 'pandas.core.frame.DataFrame'>\n",
      "Int64Index: 224 entries, 2050053 to 2191261\n",
      "Data columns (total 15 columns):\n",
      " #   Column                          Non-Null Count  Dtype  \n",
      "---  ------                          --------------  -----  \n",
      " 0   date                            224 non-null    object \n",
      " 1   state                           224 non-null    object \n",
      " 2   city                            224 non-null    object \n",
      " 3   place_type                      224 non-null    object \n",
      " 4   confirmed                       224 non-null    int64  \n",
      " 5   deaths                          224 non-null    int64  \n",
      " 6   order_for_place                 224 non-null    int64  \n",
      " 7   is_last                         224 non-null    bool   \n",
      " 8   estimated_population_2019       224 non-null    float64\n",
      " 9   estimated_population            224 non-null    float64\n",
      " 10  city_ibge_code                  224 non-null    float64\n",
      " 11  confirmed_per_100k_inhabitants  224 non-null    float64\n",
      " 12  death_rate                      224 non-null    float64\n",
      " 13  latitude                        224 non-null    float64\n",
      " 14  longitude                       224 non-null    float64\n",
      "dtypes: bool(1), float64(7), int64(3), object(4)\n",
      "memory usage: 26.5+ KB\n"
     ]
    }
   ],
   "source": [
    "dataPiaui.info()"
   ]
  },
  {
   "cell_type": "markdown",
   "metadata": {},
   "source": [
    "## Ponto #2\n",
    "Plotar um mapa com a localização e número de casos"
   ]
  },
  {
   "cell_type": "code",
   "execution_count": 16,
   "metadata": {},
   "outputs": [],
   "source": [
    "#Função para plotar o mapa\n",
    "def plotMap(lat1, lat2, lon1, lon2, xmap, ymap):\n",
    "    plt.figure(figsize=(xmap, ymap))\n",
    "    map = Basemap(projection='cyl',\n",
    "    resolution='h',\n",
    "    llcrnrlat=lat1,\n",
    "    urcrnrlat=lat2,\n",
    "    llcrnrlon=lon1,\n",
    "    urcrnrlon=lon2\n",
    "    )\n",
    "    map.drawcoastlines()\n",
    "    map.fillcontinents(color='palegoldenrod', lake_color='lightskyblue')\n",
    "    map.drawmapboundary(fill_color='lightskyblue')\n",
    "    map.drawstates(color='black')\n",
    "    map.drawparallels(np.arange(lat1, lat2 + 0.5, 2), labels=[1, 0, 0, 0])\n",
    "    map.drawmeridians(np.arange(lon1, lon2 + 0.5, 2), labels=[0, 0, 0, 1])\n",
    "    return map\n"
   ]
  },
  {
   "cell_type": "code",
   "execution_count": 17,
   "metadata": {},
   "outputs": [
    {
     "name": "stdout",
     "output_type": "stream",
     "text": [
      "-10.8149125 -2.8520082\n",
      "-11.8149 -1.852\n",
      "-45.9199551 -40.6147253\n",
      "-46.92 -39.6147\n"
     ]
    }
   ],
   "source": [
    "multiplot = 1\n",
    "lat1 = dataPiaui['latitude'].min() - multiplot if dataPiaui['latitude'].min() < 0 else dataPiaui['latitude'].min() + multiplot\n",
    "lat2 = dataPiaui['latitude'].max() + multiplot if dataPiaui['latitude'].max() < 0 else dataPiaui['latitude'].max() - multiplot\n",
    "lon1 = dataPiaui['longitude'].min() - multiplot if dataPiaui['longitude'].min() < 0 else dataPiaui['longitude'].min() + multiplot\n",
    "lon2 = dataPiaui['longitude'].max() + multiplot if dataPiaui['longitude'].max() < 0 else dataPiaui['longitude'].max() - multiplot\n",
    "\n",
    "lat1, lat2 = round(lat1, 4), round(lat2, 4)\n",
    "lon1, lon2 = round(lon1, 4), round(lon2, 4)\n",
    "\n",
    "print(dataPiaui['latitude'].min(), dataPiaui['latitude'].max())\n",
    "print(lat1, lat2)\n",
    "print(dataPiaui['longitude'].min(), dataPiaui['longitude'].max())\n",
    "print(lon1, lon2)"
   ]
  },
  {
   "cell_type": "code",
   "execution_count": 18,
   "metadata": {},
   "outputs": [
    {
     "data": {
      "text/plain": [
       "<matplotlib.collections.PathCollection at 0x15c318ae970>"
      ]
     },
     "execution_count": 18,
     "metadata": {},
     "output_type": "execute_result"
    },
    {
     "data": {
      "image/png": "[encoded data removed]",
      "text/plain": [
       "<Figure size 1080x720 with 1 Axes>"
      ]
     },
     "metadata": {},
     "output_type": "display_data"
    }
   ],
   "source": [
    "map = plotMap(lat1, lat2, lon1, lon2, 15, 10)\n",
    "map.scatter(\n",
    "    x=dataPiaui['longitude'].values,\n",
    "    y=dataPiaui['latitude'].values,\n",
    "    s = dataPiaui['confirmed']/100, c='blue',\n",
    "    # alpha = 0.01,\n",
    "    marker='o',\n",
    "    zorder=6\n",
    "    )\n"
   ]
  },
  {
   "cell_type": "markdown",
   "metadata": {},
   "source": [
    "## Ponto #3"
   ]
  },
  {
   "cell_type": "markdown",
   "metadata": {},
   "source": [
    "Indicar o número de amostras, atributos e dados faltantes (se existir) do conjunto de dados"
   ]
  },
  {
   "cell_type": "code",
   "execution_count": 19,
   "metadata": {},
   "outputs": [
    {
     "name": "stdout",
     "output_type": "stream",
     "text": [
      "<class 'pandas.core.frame.DataFrame'>\n",
      "Int64Index: 224 entries, 2050053 to 2191261\n",
      "Data columns (total 15 columns):\n",
      " #   Column                          Non-Null Count  Dtype  \n",
      "---  ------                          --------------  -----  \n",
      " 0   date                            224 non-null    object \n",
      " 1   state                           224 non-null    object \n",
      " 2   city                            224 non-null    object \n",
      " 3   place_type                      224 non-null    object \n",
      " 4   confirmed                       224 non-null    int64  \n",
      " 5   deaths                          224 non-null    int64  \n",
      " 6   order_for_place                 224 non-null    int64  \n",
      " 7   is_last                         224 non-null    bool   \n",
      " 8   estimated_population_2019       224 non-null    float64\n",
      " 9   estimated_population            224 non-null    float64\n",
      " 10  city_ibge_code                  224 non-null    float64\n",
      " 11  confirmed_per_100k_inhabitants  224 non-null    float64\n",
      " 12  death_rate                      224 non-null    float64\n",
      " 13  latitude                        224 non-null    float64\n",
      " 14  longitude                       224 non-null    float64\n",
      "dtypes: bool(1), float64(7), int64(3), object(4)\n",
      "memory usage: 26.5+ KB\n"
     ]
    }
   ],
   "source": [
    "dataPiaui.info()"
   ]
  },
  {
   "cell_type": "markdown",
   "metadata": {},
   "source": [
    "## Ponto #4"
   ]
  },
  {
   "cell_type": "markdown",
   "metadata": {},
   "source": [
    "Apresentar as estatísticas descritivas dos atributos não categóricos"
   ]
  },
  {
   "cell_type": "code",
   "execution_count": 20,
   "metadata": {},
   "outputs": [
    {
     "data": {
      "text/html": [
       "<div>\n",
       "<style scoped>\n",
       "    .dataframe tbody tr th:only-of-type {\n",
       "        vertical-align: middle;\n",
       "    }\n",
       "\n",
       "    .dataframe tbody tr th {\n",
       "        vertical-align: top;\n",
       "    }\n",
       "\n",
       "    .dataframe thead th {\n",
       "        text-align: right;\n",
       "    }\n",
       "</style>\n",
       "<table border=\"1\" class=\"dataframe\">\n",
       "  <thead>\n",
       "    <tr style=\"text-align: right;\">\n",
       "      <th></th>\n",
       "      <th>confirmed</th>\n",
       "      <th>deaths</th>\n",
       "      <th>order_for_place</th>\n",
       "      <th>estimated_population_2019</th>\n",
       "      <th>estimated_population</th>\n",
       "      <th>city_ibge_code</th>\n",
       "      <th>confirmed_per_100k_inhabitants</th>\n",
       "      <th>death_rate</th>\n",
       "      <th>latitude</th>\n",
       "      <th>longitude</th>\n",
       "    </tr>\n",
       "  </thead>\n",
       "  <tbody>\n",
       "    <tr>\n",
       "      <th>count</th>\n",
       "      <td>224.000000</td>\n",
       "      <td>224.000000</td>\n",
       "      <td>224.000000</td>\n",
       "      <td>224.000000</td>\n",
       "      <td>224.000000</td>\n",
       "      <td>2.240000e+02</td>\n",
       "      <td>224.000000</td>\n",
       "      <td>224.000000</td>\n",
       "      <td>224.000000</td>\n",
       "      <td>224.000000</td>\n",
       "    </tr>\n",
       "    <tr>\n",
       "      <th>mean</th>\n",
       "      <td>1604.995536</td>\n",
       "      <td>33.799107</td>\n",
       "      <td>633.339286</td>\n",
       "      <td>14612.620536</td>\n",
       "      <td>14649.464286</td>\n",
       "      <td>2.205694e+06</td>\n",
       "      <td>8485.333611</td>\n",
       "      <td>0.026325</td>\n",
       "      <td>-6.685971</td>\n",
       "      <td>-42.405314</td>\n",
       "    </tr>\n",
       "    <tr>\n",
       "      <th>std</th>\n",
       "      <td>8088.565295</td>\n",
       "      <td>184.563137</td>\n",
       "      <td>27.566000</td>\n",
       "      <td>58886.634217</td>\n",
       "      <td>59102.962350</td>\n",
       "      <td>3.333670e+03</td>\n",
       "      <td>4895.328509</td>\n",
       "      <td>0.023330</td>\n",
       "      <td>1.852397</td>\n",
       "      <td>1.103157</td>\n",
       "    </tr>\n",
       "    <tr>\n",
       "      <th>min</th>\n",
       "      <td>25.000000</td>\n",
       "      <td>1.000000</td>\n",
       "      <td>521.000000</td>\n",
       "      <td>1246.000000</td>\n",
       "      <td>1242.000000</td>\n",
       "      <td>2.200053e+06</td>\n",
       "      <td>724.427700</td>\n",
       "      <td>0.001800</td>\n",
       "      <td>-10.814913</td>\n",
       "      <td>-45.919955</td>\n",
       "    </tr>\n",
       "    <tr>\n",
       "      <th>25%</th>\n",
       "      <td>251.500000</td>\n",
       "      <td>5.000000</td>\n",
       "      <td>617.750000</td>\n",
       "      <td>4503.000000</td>\n",
       "      <td>4511.000000</td>\n",
       "      <td>2.202690e+06</td>\n",
       "      <td>4638.431965</td>\n",
       "      <td>0.013800</td>\n",
       "      <td>-7.862943</td>\n",
       "      <td>-42.816981</td>\n",
       "    </tr>\n",
       "    <tr>\n",
       "      <th>50%</th>\n",
       "      <td>479.000000</td>\n",
       "      <td>10.000000</td>\n",
       "      <td>635.000000</td>\n",
       "      <td>6246.500000</td>\n",
       "      <td>6250.500000</td>\n",
       "      <td>2.205548e+06</td>\n",
       "      <td>7539.150995</td>\n",
       "      <td>0.020750</td>\n",
       "      <td>-6.971350</td>\n",
       "      <td>-42.248402</td>\n",
       "    </tr>\n",
       "    <tr>\n",
       "      <th>75%</th>\n",
       "      <td>993.250000</td>\n",
       "      <td>19.000000</td>\n",
       "      <td>655.000000</td>\n",
       "      <td>10715.250000</td>\n",
       "      <td>10725.250000</td>\n",
       "      <td>2.208662e+06</td>\n",
       "      <td>11346.422683</td>\n",
       "      <td>0.030925</td>\n",
       "      <td>-5.360869</td>\n",
       "      <td>-41.646871</td>\n",
       "    </tr>\n",
       "    <tr>\n",
       "      <th>max</th>\n",
       "      <td>118155.000000</td>\n",
       "      <td>2709.000000</td>\n",
       "      <td>695.000000</td>\n",
       "      <td>864845.000000</td>\n",
       "      <td>868075.000000</td>\n",
       "      <td>2.211704e+06</td>\n",
       "      <td>27239.884390</td>\n",
       "      <td>0.152200</td>\n",
       "      <td>-2.852008</td>\n",
       "      <td>-40.614725</td>\n",
       "    </tr>\n",
       "  </tbody>\n",
       "</table>\n",
       "</div>"
      ],
      "text/plain": [
       "           confirmed       deaths  order_for_place  estimated_population_2019  \\\n",
       "count     224.000000   224.000000       224.000000                 224.000000   \n",
       "mean     1604.995536    33.799107       633.339286               14612.620536   \n",
       "std      8088.565295   184.563137        27.566000               58886.634217   \n",
       "min        25.000000     1.000000       521.000000                1246.000000   \n",
       "25%       251.500000     5.000000       617.750000                4503.000000   \n",
       "50%       479.000000    10.000000       635.000000                6246.500000   \n",
       "75%       993.250000    19.000000       655.000000               10715.250000   \n",
       "max    118155.000000  2709.000000       695.000000              864845.000000   \n",
       "\n",
       "       estimated_population  city_ibge_code  confirmed_per_100k_inhabitants  \\\n",
       "count            224.000000    2.240000e+02                      224.000000   \n",
       "mean           14649.464286    2.205694e+06                     8485.333611   \n",
       "std            59102.962350    3.333670e+03                     4895.328509   \n",
       "min             1242.000000    2.200053e+06                      724.427700   \n",
       "25%             4511.000000    2.202690e+06                     4638.431965   \n",
       "50%             6250.500000    2.205548e+06                     7539.150995   \n",
       "75%            10725.250000    2.208662e+06                    11346.422683   \n",
       "max           868075.000000    2.211704e+06                    27239.884390   \n",
       "\n",
       "       death_rate    latitude   longitude  \n",
       "count  224.000000  224.000000  224.000000  \n",
       "mean     0.026325   -6.685971  -42.405314  \n",
       "std      0.023330    1.852397    1.103157  \n",
       "min      0.001800  -10.814913  -45.919955  \n",
       "25%      0.013800   -7.862943  -42.816981  \n",
       "50%      0.020750   -6.971350  -42.248402  \n",
       "75%      0.030925   -5.360869  -41.646871  \n",
       "max      0.152200   -2.852008  -40.614725  "
      ]
     },
     "execution_count": 20,
     "metadata": {},
     "output_type": "execute_result"
    }
   ],
   "source": [
    "dataPiaui.describe()"
   ]
  },
  {
   "cell_type": "markdown",
   "metadata": {},
   "source": [
    "## Ponto #5"
   ]
  },
  {
   "cell_type": "markdown",
   "metadata": {},
   "source": [
    "Apresentar os histogramas dos atributos não categóricos"
   ]
  },
  {
   "cell_type": "code",
   "execution_count": 21,
   "metadata": {},
   "outputs": [
    {
     "data": {
      "image/png": "[encoded data removed]",
      "text/plain": [
       "<Figure size 1440x1080 with 6 Axes>"
      ]
     },
     "metadata": {
      "needs_background": "light"
     },
     "output_type": "display_data"
    }
   ],
   "source": [
    "dataPiaui.hist(['deaths', 'death_rate', 'confirmed', 'estimated_population', 'estimated_population_2019', 'confirmed_per_100k_inhabitants'], bins=25, figsize=(20,15))\n",
    "plt.show()\n"
   ]
  },
  {
   "cell_type": "markdown",
   "metadata": {},
   "source": [
    "## Ponto #6"
   ]
  },
  {
   "cell_type": "markdown",
   "metadata": {},
   "source": [
    "Capturar as latitudes e longitudes para cada 1 dos municípios presentes na base de dados e adicionar as colunas latitude e longitude nos dados"
   ]
  },
  {
   "cell_type": "code",
   "execution_count": null,
   "metadata": {},
   "outputs": [],
   "source": [
    "latitudes = []\n",
    "longitudes = []\n",
    "\n",
    "for city in dataPiaui['city']:\n",
    "    request = 'https://nominatim.openstreetmap.org/search?city='+city+'&state=Piaui&format=json'\n",
    "    response = requests.get(request)\n",
    "    response_data = response.json()[0]\n",
    "    \n",
    "    latitude = float(response_data[\"lat\"])\n",
    "    longitude = float(response_data[\"lon\"])\n",
    "    latitudes.append(latitude)\n",
    "    longitudes.append(longitude)\n"
   ]
  },
  {
   "cell_type": "code",
   "execution_count": null,
   "metadata": {},
   "outputs": [],
   "source": [
    "len(latitudes)\n",
    "len(longitudes)"
   ]
  },
  {
   "cell_type": "code",
   "execution_count": null,
   "metadata": {},
   "outputs": [],
   "source": [
    "dataPiaui['latitude'] = latitudes\n",
    "dataPiaui['longitude'] = longitudes\n"
   ]
  },
  {
   "cell_type": "code",
   "execution_count": null,
   "metadata": {},
   "outputs": [],
   "source": [
    "dataPiaui.info()"
   ]
  },
  {
   "cell_type": "markdown",
   "metadata": {},
   "source": [
    "## Ponto #7"
   ]
  },
  {
   "cell_type": "markdown",
   "metadata": {},
   "source": [
    "Apresentar um gráfico da latitude x longitude, onde cada amostra será representada por um círculo e quanto maior o valor do campo estimated_population, maior o raio do círculo que representa aquela amostra. Já a cor representa a taxa de mortalidade (death_rate), quão maior esse índice, mais próximo do vermelho"
   ]
  },
  {
   "cell_type": "code",
   "execution_count": 22,
   "metadata": {},
   "outputs": [
    {
     "data": {
      "text/plain": [
       "<matplotlib.legend.Legend at 0x15c31bdf4f0>"
      ]
     },
     "execution_count": 22,
     "metadata": {},
     "output_type": "execute_result"
    },
    {
     "data": {
      "image/png": "[encoded data removed]",
      "text/plain": [
       "<Figure size 720x504 with 2 Axes>"
      ]
     },
     "metadata": {
      "needs_background": "light"
     },
     "output_type": "display_data"
    }
   ],
   "source": [
    "dataPiaui.plot(kind='scatter', x='longitude', y='latitude', alpha=0.3,\n",
    "    s=dataPiaui['estimated_population']/100, label='estimated_population', figsize=(10,7),\n",
    "    c='death_rate', cmap=plt.get_cmap('jet'), colorbar=True,\n",
    "    sharex=False)\n",
    "plt.legend()"
   ]
  },
  {
   "cell_type": "markdown",
   "metadata": {},
   "source": [
    "## Ponto #8"
   ]
  },
  {
   "cell_type": "markdown",
   "metadata": {},
   "source": [
    "Calcular a matriz de correlação"
   ]
  },
  {
   "cell_type": "code",
   "execution_count": 23,
   "metadata": {},
   "outputs": [],
   "source": [
    "matriz_correlacao = dataPiaui.corr()"
   ]
  },
  {
   "cell_type": "code",
   "execution_count": 24,
   "metadata": {},
   "outputs": [
    {
     "data": {
      "text/html": [
       "<div>\n",
       "<style scoped>\n",
       "    .dataframe tbody tr th:only-of-type {\n",
       "        vertical-align: middle;\n",
       "    }\n",
       "\n",
       "    .dataframe tbody tr th {\n",
       "        vertical-align: top;\n",
       "    }\n",
       "\n",
       "    .dataframe thead th {\n",
       "        text-align: right;\n",
       "    }\n",
       "</style>\n",
       "<table border=\"1\" class=\"dataframe\">\n",
       "  <thead>\n",
       "    <tr style=\"text-align: right;\">\n",
       "      <th></th>\n",
       "      <th>confirmed</th>\n",
       "      <th>deaths</th>\n",
       "      <th>order_for_place</th>\n",
       "      <th>is_last</th>\n",
       "      <th>estimated_population_2019</th>\n",
       "      <th>estimated_population</th>\n",
       "      <th>city_ibge_code</th>\n",
       "      <th>confirmed_per_100k_inhabitants</th>\n",
       "      <th>death_rate</th>\n",
       "      <th>latitude</th>\n",
       "      <th>longitude</th>\n",
       "    </tr>\n",
       "  </thead>\n",
       "  <tbody>\n",
       "    <tr>\n",
       "      <th>confirmed</th>\n",
       "      <td>1.000000</td>\n",
       "      <td>0.996903</td>\n",
       "      <td>0.240628</td>\n",
       "      <td>NaN</td>\n",
       "      <td>0.996355</td>\n",
       "      <td>0.996353</td>\n",
       "      <td>0.106150</td>\n",
       "      <td>0.176921</td>\n",
       "      <td>-0.045062</td>\n",
       "      <td>0.114693</td>\n",
       "      <td>-0.015108</td>\n",
       "    </tr>\n",
       "    <tr>\n",
       "      <th>deaths</th>\n",
       "      <td>0.996903</td>\n",
       "      <td>1.000000</td>\n",
       "      <td>0.234341</td>\n",
       "      <td>NaN</td>\n",
       "      <td>0.997730</td>\n",
       "      <td>0.997734</td>\n",
       "      <td>0.106618</td>\n",
       "      <td>0.136432</td>\n",
       "      <td>-0.013607</td>\n",
       "      <td>0.116773</td>\n",
       "      <td>-0.015278</td>\n",
       "    </tr>\n",
       "    <tr>\n",
       "      <th>order_for_place</th>\n",
       "      <td>0.240628</td>\n",
       "      <td>0.234341</td>\n",
       "      <td>1.000000</td>\n",
       "      <td>NaN</td>\n",
       "      <td>0.246578</td>\n",
       "      <td>0.246476</td>\n",
       "      <td>0.020177</td>\n",
       "      <td>0.218542</td>\n",
       "      <td>-0.006783</td>\n",
       "      <td>0.207976</td>\n",
       "      <td>0.086809</td>\n",
       "    </tr>\n",
       "    <tr>\n",
       "      <th>is_last</th>\n",
       "      <td>NaN</td>\n",
       "      <td>NaN</td>\n",
       "      <td>NaN</td>\n",
       "      <td>NaN</td>\n",
       "      <td>NaN</td>\n",
       "      <td>NaN</td>\n",
       "      <td>NaN</td>\n",
       "      <td>NaN</td>\n",
       "      <td>NaN</td>\n",
       "      <td>NaN</td>\n",
       "      <td>NaN</td>\n",
       "    </tr>\n",
       "    <tr>\n",
       "      <th>estimated_population_2019</th>\n",
       "      <td>0.996355</td>\n",
       "      <td>0.997730</td>\n",
       "      <td>0.246578</td>\n",
       "      <td>NaN</td>\n",
       "      <td>1.000000</td>\n",
       "      <td>1.000000</td>\n",
       "      <td>0.104996</td>\n",
       "      <td>0.125720</td>\n",
       "      <td>-0.026381</td>\n",
       "      <td>0.120086</td>\n",
       "      <td>-0.011558</td>\n",
       "    </tr>\n",
       "    <tr>\n",
       "      <th>estimated_population</th>\n",
       "      <td>0.996353</td>\n",
       "      <td>0.997734</td>\n",
       "      <td>0.246476</td>\n",
       "      <td>NaN</td>\n",
       "      <td>1.000000</td>\n",
       "      <td>1.000000</td>\n",
       "      <td>0.104970</td>\n",
       "      <td>0.125657</td>\n",
       "      <td>-0.026366</td>\n",
       "      <td>0.119995</td>\n",
       "      <td>-0.011612</td>\n",
       "    </tr>\n",
       "    <tr>\n",
       "      <th>city_ibge_code</th>\n",
       "      <td>0.106150</td>\n",
       "      <td>0.106618</td>\n",
       "      <td>0.020177</td>\n",
       "      <td>NaN</td>\n",
       "      <td>0.104996</td>\n",
       "      <td>0.104970</td>\n",
       "      <td>1.000000</td>\n",
       "      <td>-0.056907</td>\n",
       "      <td>0.108575</td>\n",
       "      <td>-0.064118</td>\n",
       "      <td>-0.007926</td>\n",
       "    </tr>\n",
       "    <tr>\n",
       "      <th>confirmed_per_100k_inhabitants</th>\n",
       "      <td>0.176921</td>\n",
       "      <td>0.136432</td>\n",
       "      <td>0.218542</td>\n",
       "      <td>NaN</td>\n",
       "      <td>0.125720</td>\n",
       "      <td>0.125657</td>\n",
       "      <td>-0.056907</td>\n",
       "      <td>1.000000</td>\n",
       "      <td>-0.484392</td>\n",
       "      <td>0.200604</td>\n",
       "      <td>-0.008849</td>\n",
       "    </tr>\n",
       "    <tr>\n",
       "      <th>death_rate</th>\n",
       "      <td>-0.045062</td>\n",
       "      <td>-0.013607</td>\n",
       "      <td>-0.006783</td>\n",
       "      <td>NaN</td>\n",
       "      <td>-0.026381</td>\n",
       "      <td>-0.026366</td>\n",
       "      <td>0.108575</td>\n",
       "      <td>-0.484392</td>\n",
       "      <td>1.000000</td>\n",
       "      <td>-0.164531</td>\n",
       "      <td>-0.157423</td>\n",
       "    </tr>\n",
       "    <tr>\n",
       "      <th>latitude</th>\n",
       "      <td>0.114693</td>\n",
       "      <td>0.116773</td>\n",
       "      <td>0.207976</td>\n",
       "      <td>NaN</td>\n",
       "      <td>0.120086</td>\n",
       "      <td>0.119995</td>\n",
       "      <td>-0.064118</td>\n",
       "      <td>0.200604</td>\n",
       "      <td>-0.164531</td>\n",
       "      <td>1.000000</td>\n",
       "      <td>0.431681</td>\n",
       "    </tr>\n",
       "    <tr>\n",
       "      <th>longitude</th>\n",
       "      <td>-0.015108</td>\n",
       "      <td>-0.015278</td>\n",
       "      <td>0.086809</td>\n",
       "      <td>NaN</td>\n",
       "      <td>-0.011558</td>\n",
       "      <td>-0.011612</td>\n",
       "      <td>-0.007926</td>\n",
       "      <td>-0.008849</td>\n",
       "      <td>-0.157423</td>\n",
       "      <td>0.431681</td>\n",
       "      <td>1.000000</td>\n",
       "    </tr>\n",
       "  </tbody>\n",
       "</table>\n",
       "</div>"
      ],
      "text/plain": [
       "                                confirmed    deaths  order_for_place  is_last  \\\n",
       "confirmed                        1.000000  0.996903         0.240628      NaN   \n",
       "deaths                           0.996903  1.000000         0.234341      NaN   \n",
       "order_for_place                  0.240628  0.234341         1.000000      NaN   \n",
       "is_last                               NaN       NaN              NaN      NaN   \n",
       "estimated_population_2019        0.996355  0.997730         0.246578      NaN   \n",
       "estimated_population             0.996353  0.997734         0.246476      NaN   \n",
       "city_ibge_code                   0.106150  0.106618         0.020177      NaN   \n",
       "confirmed_per_100k_inhabitants   0.176921  0.136432         0.218542      NaN   \n",
       "death_rate                      -0.045062 -0.013607        -0.006783      NaN   \n",
       "latitude                         0.114693  0.116773         0.207976      NaN   \n",
       "longitude                       -0.015108 -0.015278         0.086809      NaN   \n",
       "\n",
       "                                estimated_population_2019  \\\n",
       "confirmed                                        0.996355   \n",
       "deaths                                           0.997730   \n",
       "order_for_place                                  0.246578   \n",
       "is_last                                               NaN   \n",
       "estimated_population_2019                        1.000000   \n",
       "estimated_population                             1.000000   \n",
       "city_ibge_code                                   0.104996   \n",
       "confirmed_per_100k_inhabitants                   0.125720   \n",
       "death_rate                                      -0.026381   \n",
       "latitude                                         0.120086   \n",
       "longitude                                       -0.011558   \n",
       "\n",
       "                                estimated_population  city_ibge_code  \\\n",
       "confirmed                                   0.996353        0.106150   \n",
       "deaths                                      0.997734        0.106618   \n",
       "order_for_place                             0.246476        0.020177   \n",
       "is_last                                          NaN             NaN   \n",
       "estimated_population_2019                   1.000000        0.104996   \n",
       "estimated_population                        1.000000        0.104970   \n",
       "city_ibge_code                              0.104970        1.000000   \n",
       "confirmed_per_100k_inhabitants              0.125657       -0.056907   \n",
       "death_rate                                 -0.026366        0.108575   \n",
       "latitude                                    0.119995       -0.064118   \n",
       "longitude                                  -0.011612       -0.007926   \n",
       "\n",
       "                                confirmed_per_100k_inhabitants  death_rate  \\\n",
       "confirmed                                             0.176921   -0.045062   \n",
       "deaths                                                0.136432   -0.013607   \n",
       "order_for_place                                       0.218542   -0.006783   \n",
       "is_last                                                    NaN         NaN   \n",
       "estimated_population_2019                             0.125720   -0.026381   \n",
       "estimated_population                                  0.125657   -0.026366   \n",
       "city_ibge_code                                       -0.056907    0.108575   \n",
       "confirmed_per_100k_inhabitants                        1.000000   -0.484392   \n",
       "death_rate                                           -0.484392    1.000000   \n",
       "latitude                                              0.200604   -0.164531   \n",
       "longitude                                            -0.008849   -0.157423   \n",
       "\n",
       "                                latitude  longitude  \n",
       "confirmed                       0.114693  -0.015108  \n",
       "deaths                          0.116773  -0.015278  \n",
       "order_for_place                 0.207976   0.086809  \n",
       "is_last                              NaN        NaN  \n",
       "estimated_population_2019       0.120086  -0.011558  \n",
       "estimated_population            0.119995  -0.011612  \n",
       "city_ibge_code                 -0.064118  -0.007926  \n",
       "confirmed_per_100k_inhabitants  0.200604  -0.008849  \n",
       "death_rate                     -0.164531  -0.157423  \n",
       "latitude                        1.000000   0.431681  \n",
       "longitude                       0.431681   1.000000  "
      ]
     },
     "execution_count": 24,
     "metadata": {},
     "output_type": "execute_result"
    }
   ],
   "source": [
    "matriz_correlacao"
   ]
  },
  {
   "cell_type": "markdown",
   "metadata": {},
   "source": [
    "## Ponto #9"
   ]
  },
  {
   "cell_type": "markdown",
   "metadata": {},
   "source": [
    "Verificar a correlação entre o atributo death_rate e os demais atributos não categóricos"
   ]
  },
  {
   "cell_type": "code",
   "execution_count": 25,
   "metadata": {},
   "outputs": [
    {
     "data": {
      "text/plain": [
       "death_rate                        1.000000\n",
       "city_ibge_code                    0.108575\n",
       "order_for_place                  -0.006783\n",
       "deaths                           -0.013607\n",
       "estimated_population             -0.026366\n",
       "estimated_population_2019        -0.026381\n",
       "confirmed                        -0.045062\n",
       "longitude                        -0.157423\n",
       "latitude                         -0.164531\n",
       "confirmed_per_100k_inhabitants   -0.484392\n",
       "is_last                                NaN\n",
       "Name: death_rate, dtype: float64"
      ]
     },
     "execution_count": 25,
     "metadata": {},
     "output_type": "execute_result"
    }
   ],
   "source": [
    "matriz_correlacao['death_rate'].sort_values(ascending=False)"
   ]
  },
  {
   "cell_type": "code",
   "execution_count": null,
   "metadata": {},
   "outputs": [],
   "source": []
  }
 ],
 "metadata": {
  "interpreter": {
   "hash": "ea65dc02afb88902258b5974b88d33462b01232f0fcf3be00f06df2287715e24"
  },
  "kernelspec": {
   "display_name": "Python 3.9.6 ('venv': venv)",
   "language": "python",
   "name": "python3"
  },
  "language_info": {
   "codemirror_mode": {
    "name": "ipython",
    "version": 3
   },
   "file_extension": ".py",
   "mimetype": "text/x-python",
   "name": "python",
   "nbconvert_exporter": "python",
   "pygments_lexer": "ipython3",
   "version": "3.9.6"
  },
  "orig_nbformat": 4
 },
 "nbformat": 4,
 "nbformat_minor": 2
}
